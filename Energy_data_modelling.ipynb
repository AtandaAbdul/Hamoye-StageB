{
 "cells": [
  {
   "cell_type": "code",
   "execution_count": 2,
   "id": "14a3f45d",
   "metadata": {},
   "outputs": [],
   "source": [
    "import pandas as pd\n",
    "import matplotlib.pyplot as plt\n",
    "import seaborn as sns\n",
    "import numpy as np"
   ]
  },
  {
   "cell_type": "code",
   "execution_count": 3,
   "id": "efb4868c",
   "metadata": {},
   "outputs": [],
   "source": [
    "df=pd.read_csv('energydata_complete.csv')"
   ]
  },
  {
   "cell_type": "markdown",
   "id": "fd686a55",
   "metadata": {},
   "source": [
    "### A linear model on the relationship between the temperature in the living room in Celsius (x = T2) and the temperature outside the building (y = T6)"
   ]
  },
  {
   "cell_type": "code",
   "execution_count": 4,
   "id": "f9c5a8ac",
   "metadata": {},
   "outputs": [],
   "source": [
    "t2 = df['T2']\n",
    "t6 = df['T6']\n",
    "t2 = np.array(t2)\n",
    "t6 = np.array(t6)\n",
    "\n",
    "#reshaping the data so it can fit the model \n",
    "t2 = t2.reshape((-1, 1))\n",
    "t6 = t6.reshape((-1, 1))"
   ]
  },
  {
   "cell_type": "code",
   "execution_count": 5,
   "id": "9cf5878d",
   "metadata": {},
   "outputs": [
    {
     "data": {
      "text/plain": [
       "LinearRegression()"
      ]
     },
     "execution_count": 5,
     "metadata": {},
     "output_type": "execute_result"
    }
   ],
   "source": [
    "from sklearn.linear_model import LinearRegression\n",
    "linear_model1 = LinearRegression()\n",
    "linear_model1.fit(t2, t6)"
   ]
  },
  {
   "cell_type": "markdown",
   "id": "7f81063a",
   "metadata": {},
   "source": [
    "## Calculating the value of the R squared to 2 decimal places"
   ]
  },
  {
   "cell_type": "code",
   "execution_count": 6,
   "id": "40418943",
   "metadata": {},
   "outputs": [
    {
     "data": {
      "text/plain": [
       "0.64"
      ]
     },
     "execution_count": 6,
     "metadata": {},
     "output_type": "execute_result"
    }
   ],
   "source": [
    "r_squared = linear_model1.score(t2,t6)\n",
    "\n",
    "round(r_squared, 2 )"
   ]
  },
  {
   "cell_type": "markdown",
   "id": "015d21c7",
   "metadata": {},
   "source": [
    "## Dropping the Date and lights Columns"
   ]
  },
  {
   "cell_type": "code",
   "execution_count": 7,
   "id": "3675bc5f",
   "metadata": {},
   "outputs": [],
   "source": [
    "df = df.drop(columns=['date', 'lights'])\n"
   ]
  },
  {
   "cell_type": "markdown",
   "id": "16fa6582",
   "metadata": {},
   "source": [
    "### Scaling the Data and dropping the target and Reatining the feauture variables"
   ]
  },
  {
   "cell_type": "code",
   "execution_count": 8,
   "id": "1ddd7846",
   "metadata": {},
   "outputs": [],
   "source": [
    "#Firstly, we normalise our dataset to a common scale using the min max scaler\n",
    "from sklearn.preprocessing import MinMaxScaler\n",
    "scaler = MinMaxScaler()\n",
    "\n",
    "normalised_df = pd.DataFrame(scaler.fit_transform(df), columns=df.columns)\n",
    "#Declaring our target variable and retaining the feautures variables\n",
    "features_df = normalised_df.drop(columns=['Appliances'])\n",
    "Appliances_target = normalised_df[ 'Appliances' ]"
   ]
  },
  {
   "cell_type": "markdown",
   "id": "93f08f12",
   "metadata": {},
   "source": [
    "### Splitting the dataset into training and testing data"
   ]
  },
  {
   "cell_type": "code",
   "execution_count": 9,
   "id": "84ec6ca2",
   "metadata": {},
   "outputs": [],
   "source": [
    "#Now, we split our dataset into the training and testing dataset. Recall that we\n",
    "#had earlier segmented the features and target variables.\n",
    "from sklearn.model_selection import train_test_split\n",
    "x_train, x_test, y_train, y_test = train_test_split(features_df, Appliances_target,\n",
    "test_size= 0.3 , random_state= 1 )"
   ]
  },
  {
   "cell_type": "markdown",
   "id": "fd9a9120",
   "metadata": {},
   "source": [
    "### Buiding the linear Regression model with the traing data"
   ]
  },
  {
   "cell_type": "code",
   "execution_count": 10,
   "id": "8f55d502",
   "metadata": {},
   "outputs": [],
   "source": [
    "from sklearn.linear_model import LinearRegression\n",
    "linear_model = LinearRegression()\n",
    "#fit the model to the training dataset\n",
    "linear_model.fit(x_train, y_train)\n",
    "#obtain predictions\n",
    "predicted_values = linear_model.predict(x_test)"
   ]
  },
  {
   "cell_type": "markdown",
   "id": "a2e94ddc",
   "metadata": {},
   "source": [
    "#### The Mean Absolute Error in 2 decimal places is 0.05"
   ]
  },
  {
   "cell_type": "code",
   "execution_count": 11,
   "id": "e89a3b41",
   "metadata": {},
   "outputs": [
    {
     "data": {
      "text/plain": [
       "0.05"
      ]
     },
     "execution_count": 11,
     "metadata": {},
     "output_type": "execute_result"
    }
   ],
   "source": [
    "from sklearn.metrics import mean_absolute_error\n",
    "mae = mean_absolute_error(y_test, predicted_values)\n",
    "round(mae, 2 )"
   ]
  },
  {
   "cell_type": "markdown",
   "id": "ede2db76",
   "metadata": {},
   "source": [
    "### The Residual Sum of Squares is 46.097"
   ]
  },
  {
   "cell_type": "code",
   "execution_count": 12,
   "id": "f8569253",
   "metadata": {},
   "outputs": [
    {
     "data": {
      "text/plain": [
       "46.097"
      ]
     },
     "execution_count": 12,
     "metadata": {},
     "output_type": "execute_result"
    }
   ],
   "source": [
    "import numpy as np\n",
    "#rss = np.sum(np.square(predicted_values - y_test ))\n",
    "rss = np.sum(np.square(y_test - predicted_values ))\n",
    "round(rss, 3 )"
   ]
  },
  {
   "cell_type": "markdown",
   "id": "b51e01cb",
   "metadata": {},
   "source": [
    "### Root Mean Squared Error (in three decimal places) is 0.088"
   ]
  },
  {
   "cell_type": "code",
   "execution_count": 13,
   "id": "b9f6b013",
   "metadata": {},
   "outputs": [
    {
     "data": {
      "text/plain": [
       "0.088"
      ]
     },
     "execution_count": 13,
     "metadata": {},
     "output_type": "execute_result"
    }
   ],
   "source": [
    "\n",
    "from sklearn.metrics import mean_squared_error\n",
    "rmse = np. sqrt(mean_squared_error(y_test,predicted_values))\n",
    "round(rmse, 3 )"
   ]
  },
  {
   "cell_type": "markdown",
   "id": "ad5a55ad",
   "metadata": {},
   "source": [
    "### Coefficient of Determination(r squared) in two decimal places is 0.16"
   ]
  },
  {
   "cell_type": "code",
   "execution_count": 14,
   "id": "58c3b323",
   "metadata": {},
   "outputs": [
    {
     "data": {
      "text/plain": [
       "0.16"
      ]
     },
     "execution_count": 14,
     "metadata": {},
     "output_type": "execute_result"
    }
   ],
   "source": [
    "from sklearn.metrics import r2_score\n",
    "r2_score = r2_score(y_test, predicted_values)\n",
    "round(r2_score, 2 )"
   ]
  },
  {
   "cell_type": "markdown",
   "id": "aec62935",
   "metadata": {},
   "source": [
    "### Lasso Regression "
   ]
  },
  {
   "cell_type": "code",
   "execution_count": 15,
   "id": "2d1ae8bf",
   "metadata": {},
   "outputs": [
    {
     "data": {
      "text/plain": [
       "Lasso(alpha=0.001)"
      ]
     },
     "execution_count": 15,
     "metadata": {},
     "output_type": "execute_result"
    }
   ],
   "source": [
    "#● Feature Selection and Lasso Regression\n",
    "from sklearn.linear_model import Lasso\n",
    "lasso_reg = Lasso(alpha= 0.001 )\n",
    "lasso_reg.fit(x_train, y_train)"
   ]
  },
  {
   "cell_type": "markdown",
   "id": "3be3b9b2",
   "metadata": {},
   "source": [
    "### Ridge Regression with alpha vaue 0.4"
   ]
  },
  {
   "cell_type": "code",
   "execution_count": 16,
   "id": "8b02a128",
   "metadata": {},
   "outputs": [
    {
     "data": {
      "text/plain": [
       "Ridge(alpha=0.4)"
      ]
     },
     "execution_count": 16,
     "metadata": {},
     "output_type": "execute_result"
    }
   ],
   "source": [
    "#● Ridge Regression\n",
    "from sklearn.linear_model import Ridge\n",
    "ridge_reg = Ridge(alpha= 0.4 )\n",
    "ridge_reg.fit(x_train, y_train)"
   ]
  },
  {
   "cell_type": "code",
   "execution_count": 29,
   "id": "cbc3c355",
   "metadata": {},
   "outputs": [],
   "source": [
    "pred_train_lasso  = lasso_reg.predict(x_test)\n"
   ]
  },
  {
   "cell_type": "markdown",
   "id": "bd5db052",
   "metadata": {},
   "source": [
    "### The function that calculates the weights of the feautures"
   ]
  },
  {
   "cell_type": "code",
   "execution_count": 17,
   "id": "8fff741b",
   "metadata": {},
   "outputs": [],
   "source": [
    "#comparing the effects of regularisation\n",
    "def get_weights_df(model, feat, col_name) :\n",
    "#this function returns the weight of every feature\n",
    "    weights = pd.Series(model.coef_, feat.columns).sort_values()\n",
    "    weights_df = pd.DataFrame(weights).reset_index()\n",
    "    weights_df.columns = [ 'Features' , col_name]\n",
    "    weights_df[col_name].round( 3 )\n",
    "    return weights_df"
   ]
  },
  {
   "cell_type": "code",
   "execution_count": 18,
   "id": "e2015fbc",
   "metadata": {},
   "outputs": [],
   "source": [
    "linear_model_weights = get_weights_df(linear_model, x_train, 'Linear_Model_Weight' )\n",
    "ridge_weights_df = get_weights_df(ridge_reg, x_train, 'Ridge_Weight' )\n",
    "lasso_weights_df = get_weights_df(lasso_reg, x_train, 'Lasso_weight' )\n",
    "final_weights = pd.merge(linear_model_weights, ridge_weights_df, on= 'Features' )\n",
    "final_weights = pd.merge(final_weights, lasso_weights_df, on= 'Features' )"
   ]
  },
  {
   "cell_type": "markdown",
   "id": "72372e59",
   "metadata": {},
   "source": [
    "## Obtaining the Feauture Weights from linear model "
   ]
  },
  {
   "cell_type": "code",
   "execution_count": 19,
   "id": "3d67619b",
   "metadata": {
    "scrolled": true
   },
   "outputs": [
    {
     "data": {
      "text/html": [
       "<div>\n",
       "<style scoped>\n",
       "    .dataframe tbody tr th:only-of-type {\n",
       "        vertical-align: middle;\n",
       "    }\n",
       "\n",
       "    .dataframe tbody tr th {\n",
       "        vertical-align: top;\n",
       "    }\n",
       "\n",
       "    .dataframe thead th {\n",
       "        text-align: right;\n",
       "    }\n",
       "</style>\n",
       "<table border=\"1\" class=\"dataframe\">\n",
       "  <thead>\n",
       "    <tr style=\"text-align: right;\">\n",
       "      <th></th>\n",
       "      <th>Features</th>\n",
       "      <th>Linear_Model_Weight</th>\n",
       "    </tr>\n",
       "  </thead>\n",
       "  <tbody>\n",
       "    <tr>\n",
       "      <th>0</th>\n",
       "      <td>RH_2</td>\n",
       "      <td>-0.458176</td>\n",
       "    </tr>\n",
       "    <tr>\n",
       "      <th>1</th>\n",
       "      <td>T_out</td>\n",
       "      <td>-0.330375</td>\n",
       "    </tr>\n",
       "    <tr>\n",
       "      <th>2</th>\n",
       "      <td>T2</td>\n",
       "      <td>-0.249801</td>\n",
       "    </tr>\n",
       "    <tr>\n",
       "      <th>3</th>\n",
       "      <td>T9</td>\n",
       "      <td>-0.204718</td>\n",
       "    </tr>\n",
       "    <tr>\n",
       "      <th>4</th>\n",
       "      <td>RH_8</td>\n",
       "      <td>-0.156534</td>\n",
       "    </tr>\n",
       "    <tr>\n",
       "      <th>5</th>\n",
       "      <td>RH_out</td>\n",
       "      <td>-0.076223</td>\n",
       "    </tr>\n",
       "    <tr>\n",
       "      <th>6</th>\n",
       "      <td>RH_7</td>\n",
       "      <td>-0.047614</td>\n",
       "    </tr>\n",
       "    <tr>\n",
       "      <th>7</th>\n",
       "      <td>RH_9</td>\n",
       "      <td>-0.036034</td>\n",
       "    </tr>\n",
       "    <tr>\n",
       "      <th>8</th>\n",
       "      <td>rv1</td>\n",
       "      <td>-0.000350</td>\n",
       "    </tr>\n",
       "    <tr>\n",
       "      <th>9</th>\n",
       "      <td>rv2</td>\n",
       "      <td>-0.000350</td>\n",
       "    </tr>\n",
       "    <tr>\n",
       "      <th>10</th>\n",
       "      <td>Press_mm_hg</td>\n",
       "      <td>0.004642</td>\n",
       "    </tr>\n",
       "    <tr>\n",
       "      <th>11</th>\n",
       "      <td>T1</td>\n",
       "      <td>0.005960</td>\n",
       "    </tr>\n",
       "    <tr>\n",
       "      <th>12</th>\n",
       "      <td>Visibility</td>\n",
       "      <td>0.010992</td>\n",
       "    </tr>\n",
       "    <tr>\n",
       "      <th>13</th>\n",
       "      <td>T7</td>\n",
       "      <td>0.012583</td>\n",
       "    </tr>\n",
       "    <tr>\n",
       "      <th>14</th>\n",
       "      <td>T5</td>\n",
       "      <td>0.012616</td>\n",
       "    </tr>\n",
       "    <tr>\n",
       "      <th>15</th>\n",
       "      <td>RH_5</td>\n",
       "      <td>0.016276</td>\n",
       "    </tr>\n",
       "    <tr>\n",
       "      <th>16</th>\n",
       "      <td>RH_4</td>\n",
       "      <td>0.026659</td>\n",
       "    </tr>\n",
       "    <tr>\n",
       "      <th>17</th>\n",
       "      <td>T4</td>\n",
       "      <td>0.027368</td>\n",
       "    </tr>\n",
       "    <tr>\n",
       "      <th>18</th>\n",
       "      <td>Windspeed</td>\n",
       "      <td>0.027918</td>\n",
       "    </tr>\n",
       "    <tr>\n",
       "      <th>19</th>\n",
       "      <td>RH_6</td>\n",
       "      <td>0.038094</td>\n",
       "    </tr>\n",
       "    <tr>\n",
       "      <th>20</th>\n",
       "      <td>T8</td>\n",
       "      <td>0.088501</td>\n",
       "    </tr>\n",
       "    <tr>\n",
       "      <th>21</th>\n",
       "      <td>RH_3</td>\n",
       "      <td>0.095538</td>\n",
       "    </tr>\n",
       "    <tr>\n",
       "      <th>22</th>\n",
       "      <td>Tdewpoint</td>\n",
       "      <td>0.119484</td>\n",
       "    </tr>\n",
       "    <tr>\n",
       "      <th>23</th>\n",
       "      <td>T6</td>\n",
       "      <td>0.249019</td>\n",
       "    </tr>\n",
       "    <tr>\n",
       "      <th>24</th>\n",
       "      <td>T3</td>\n",
       "      <td>0.293245</td>\n",
       "    </tr>\n",
       "    <tr>\n",
       "      <th>25</th>\n",
       "      <td>RH_1</td>\n",
       "      <td>0.535743</td>\n",
       "    </tr>\n",
       "  </tbody>\n",
       "</table>\n",
       "</div>"
      ],
      "text/plain": [
       "       Features  Linear_Model_Weight\n",
       "0          RH_2            -0.458176\n",
       "1         T_out            -0.330375\n",
       "2            T2            -0.249801\n",
       "3            T9            -0.204718\n",
       "4          RH_8            -0.156534\n",
       "5        RH_out            -0.076223\n",
       "6          RH_7            -0.047614\n",
       "7          RH_9            -0.036034\n",
       "8           rv1            -0.000350\n",
       "9           rv2            -0.000350\n",
       "10  Press_mm_hg             0.004642\n",
       "11           T1             0.005960\n",
       "12   Visibility             0.010992\n",
       "13           T7             0.012583\n",
       "14           T5             0.012616\n",
       "15         RH_5             0.016276\n",
       "16         RH_4             0.026659\n",
       "17           T4             0.027368\n",
       "18    Windspeed             0.027918\n",
       "19         RH_6             0.038094\n",
       "20           T8             0.088501\n",
       "21         RH_3             0.095538\n",
       "22    Tdewpoint             0.119484\n",
       "23           T6             0.249019\n",
       "24           T3             0.293245\n",
       "25         RH_1             0.535743"
      ]
     },
     "execution_count": 19,
     "metadata": {},
     "output_type": "execute_result"
    }
   ],
   "source": [
    "linear_model_weights"
   ]
  },
  {
   "cell_type": "markdown",
   "id": "de3f976e",
   "metadata": {},
   "source": [
    "### From the table above the lowest and highest Features are RH2 and RH1 respectively"
   ]
  },
  {
   "cell_type": "code",
   "execution_count": null,
   "id": "82f4a5d3",
   "metadata": {},
   "outputs": [],
   "source": []
  },
  {
   "cell_type": "markdown",
   "id": "52631a3a",
   "metadata": {},
   "source": [
    "####          Training a ridge regression model with an alpha value of 0.4. Is there any change to the root mean squared error (RMSE) when evaluated on the test set"
   ]
  },
  {
   "cell_type": "code",
   "execution_count": 31,
   "id": "1898899a",
   "metadata": {
    "scrolled": true
   },
   "outputs": [],
   "source": [
    "pred_train_ridge  = ridge_reg.predict(x_test)"
   ]
  },
  {
   "cell_type": "code",
   "execution_count": 32,
   "id": "819dc482",
   "metadata": {},
   "outputs": [
    {
     "data": {
      "text/plain": [
       "0.088"
      ]
     },
     "execution_count": 32,
     "metadata": {},
     "output_type": "execute_result"
    }
   ],
   "source": [
    "\n",
    "from sklearn.metrics import mean_squared_error\n",
    "rmse = np. sqrt(mean_squared_error(y_test,pred_train_ridge))\n",
    "round(rmse, 3 )"
   ]
  },
  {
   "cell_type": "markdown",
   "id": "20a424dd",
   "metadata": {},
   "source": [
    "### No, there is no change to the root mean square (0.088)"
   ]
  },
  {
   "cell_type": "code",
   "execution_count": null,
   "id": "e97642dd",
   "metadata": {},
   "outputs": [],
   "source": []
  },
  {
   "cell_type": "markdown",
   "id": "7f112b82",
   "metadata": {},
   "source": [
    "### Lasso Regression model"
   ]
  },
  {
   "cell_type": "code",
   "execution_count": 22,
   "id": "d3d69185",
   "metadata": {
    "scrolled": true
   },
   "outputs": [
    {
     "data": {
      "text/html": [
       "<div>\n",
       "<style scoped>\n",
       "    .dataframe tbody tr th:only-of-type {\n",
       "        vertical-align: middle;\n",
       "    }\n",
       "\n",
       "    .dataframe tbody tr th {\n",
       "        vertical-align: top;\n",
       "    }\n",
       "\n",
       "    .dataframe thead th {\n",
       "        text-align: right;\n",
       "    }\n",
       "</style>\n",
       "<table border=\"1\" class=\"dataframe\">\n",
       "  <thead>\n",
       "    <tr style=\"text-align: right;\">\n",
       "      <th></th>\n",
       "      <th>Features</th>\n",
       "      <th>Lasso_weight</th>\n",
       "    </tr>\n",
       "  </thead>\n",
       "  <tbody>\n",
       "    <tr>\n",
       "      <th>0</th>\n",
       "      <td>RH_out</td>\n",
       "      <td>-0.047062</td>\n",
       "    </tr>\n",
       "    <tr>\n",
       "      <th>1</th>\n",
       "      <td>T1</td>\n",
       "      <td>0.000000</td>\n",
       "    </tr>\n",
       "    <tr>\n",
       "      <th>2</th>\n",
       "      <td>Tdewpoint</td>\n",
       "      <td>0.000000</td>\n",
       "    </tr>\n",
       "    <tr>\n",
       "      <th>3</th>\n",
       "      <td>Visibility</td>\n",
       "      <td>0.000000</td>\n",
       "    </tr>\n",
       "    <tr>\n",
       "      <th>4</th>\n",
       "      <td>Press_mm_hg</td>\n",
       "      <td>-0.000000</td>\n",
       "    </tr>\n",
       "    <tr>\n",
       "      <th>5</th>\n",
       "      <td>T_out</td>\n",
       "      <td>0.000000</td>\n",
       "    </tr>\n",
       "    <tr>\n",
       "      <th>6</th>\n",
       "      <td>RH_9</td>\n",
       "      <td>-0.000000</td>\n",
       "    </tr>\n",
       "    <tr>\n",
       "      <th>7</th>\n",
       "      <td>T9</td>\n",
       "      <td>-0.000000</td>\n",
       "    </tr>\n",
       "    <tr>\n",
       "      <th>8</th>\n",
       "      <td>RH_8</td>\n",
       "      <td>-0.000000</td>\n",
       "    </tr>\n",
       "    <tr>\n",
       "      <th>9</th>\n",
       "      <td>T8</td>\n",
       "      <td>0.000000</td>\n",
       "    </tr>\n",
       "    <tr>\n",
       "      <th>10</th>\n",
       "      <td>RH_7</td>\n",
       "      <td>-0.000000</td>\n",
       "    </tr>\n",
       "    <tr>\n",
       "      <th>11</th>\n",
       "      <td>rv1</td>\n",
       "      <td>-0.000000</td>\n",
       "    </tr>\n",
       "    <tr>\n",
       "      <th>12</th>\n",
       "      <td>T7</td>\n",
       "      <td>-0.000000</td>\n",
       "    </tr>\n",
       "    <tr>\n",
       "      <th>13</th>\n",
       "      <td>T6</td>\n",
       "      <td>0.000000</td>\n",
       "    </tr>\n",
       "    <tr>\n",
       "      <th>14</th>\n",
       "      <td>RH_5</td>\n",
       "      <td>0.000000</td>\n",
       "    </tr>\n",
       "    <tr>\n",
       "      <th>15</th>\n",
       "      <td>T5</td>\n",
       "      <td>-0.000000</td>\n",
       "    </tr>\n",
       "    <tr>\n",
       "      <th>16</th>\n",
       "      <td>RH_4</td>\n",
       "      <td>0.000000</td>\n",
       "    </tr>\n",
       "    <tr>\n",
       "      <th>17</th>\n",
       "      <td>T4</td>\n",
       "      <td>0.000000</td>\n",
       "    </tr>\n",
       "    <tr>\n",
       "      <th>18</th>\n",
       "      <td>RH_3</td>\n",
       "      <td>0.000000</td>\n",
       "    </tr>\n",
       "    <tr>\n",
       "      <th>19</th>\n",
       "      <td>T3</td>\n",
       "      <td>0.000000</td>\n",
       "    </tr>\n",
       "    <tr>\n",
       "      <th>20</th>\n",
       "      <td>RH_2</td>\n",
       "      <td>-0.000000</td>\n",
       "    </tr>\n",
       "    <tr>\n",
       "      <th>21</th>\n",
       "      <td>RH_6</td>\n",
       "      <td>-0.000000</td>\n",
       "    </tr>\n",
       "    <tr>\n",
       "      <th>22</th>\n",
       "      <td>rv2</td>\n",
       "      <td>-0.000000</td>\n",
       "    </tr>\n",
       "    <tr>\n",
       "      <th>23</th>\n",
       "      <td>T2</td>\n",
       "      <td>0.000084</td>\n",
       "    </tr>\n",
       "    <tr>\n",
       "      <th>24</th>\n",
       "      <td>Windspeed</td>\n",
       "      <td>0.002774</td>\n",
       "    </tr>\n",
       "    <tr>\n",
       "      <th>25</th>\n",
       "      <td>RH_1</td>\n",
       "      <td>0.008410</td>\n",
       "    </tr>\n",
       "  </tbody>\n",
       "</table>\n",
       "</div>"
      ],
      "text/plain": [
       "       Features  Lasso_weight\n",
       "0        RH_out     -0.047062\n",
       "1            T1      0.000000\n",
       "2     Tdewpoint      0.000000\n",
       "3    Visibility      0.000000\n",
       "4   Press_mm_hg     -0.000000\n",
       "5         T_out      0.000000\n",
       "6          RH_9     -0.000000\n",
       "7            T9     -0.000000\n",
       "8          RH_8     -0.000000\n",
       "9            T8      0.000000\n",
       "10         RH_7     -0.000000\n",
       "11          rv1     -0.000000\n",
       "12           T7     -0.000000\n",
       "13           T6      0.000000\n",
       "14         RH_5      0.000000\n",
       "15           T5     -0.000000\n",
       "16         RH_4      0.000000\n",
       "17           T4      0.000000\n",
       "18         RH_3      0.000000\n",
       "19           T3      0.000000\n",
       "20         RH_2     -0.000000\n",
       "21         RH_6     -0.000000\n",
       "22          rv2     -0.000000\n",
       "23           T2      0.000084\n",
       "24    Windspeed      0.002774\n",
       "25         RH_1      0.008410"
      ]
     },
     "execution_count": 22,
     "metadata": {},
     "output_type": "execute_result"
    }
   ],
   "source": [
    "lasso_weights_df"
   ]
  },
  {
   "cell_type": "markdown",
   "id": "78e9458b",
   "metadata": {},
   "source": [
    "### 4 feautures have non zero feauture weights"
   ]
  },
  {
   "cell_type": "markdown",
   "id": "4426bd51",
   "metadata": {},
   "source": [
    "### The new RMSE with the LASSO regression would be :   0.095"
   ]
  },
  {
   "cell_type": "code",
   "execution_count": 30,
   "id": "00be80d0",
   "metadata": {},
   "outputs": [
    {
     "data": {
      "text/plain": [
       "0.095"
      ]
     },
     "execution_count": 30,
     "metadata": {},
     "output_type": "execute_result"
    }
   ],
   "source": [
    "from sklearn.metrics import mean_squared_error\n",
    "rmse = np.sqrt(mean_squared_error(y_test,pred_train_lasso))\n",
    "round(rmse, 3 )\n",
    "#rmse"
   ]
  },
  {
   "cell_type": "code",
   "execution_count": 25,
   "id": "c1d9e8b4",
   "metadata": {},
   "outputs": [
    {
     "data": {
      "text/html": [
       "<div>\n",
       "<style scoped>\n",
       "    .dataframe tbody tr th:only-of-type {\n",
       "        vertical-align: middle;\n",
       "    }\n",
       "\n",
       "    .dataframe tbody tr th {\n",
       "        vertical-align: top;\n",
       "    }\n",
       "\n",
       "    .dataframe thead th {\n",
       "        text-align: right;\n",
       "    }\n",
       "</style>\n",
       "<table border=\"1\" class=\"dataframe\">\n",
       "  <thead>\n",
       "    <tr style=\"text-align: right;\">\n",
       "      <th></th>\n",
       "      <th>Features</th>\n",
       "      <th>Linear_Model_Weight</th>\n",
       "      <th>Ridge_Weight</th>\n",
       "      <th>Lasso_weight</th>\n",
       "    </tr>\n",
       "  </thead>\n",
       "  <tbody>\n",
       "    <tr>\n",
       "      <th>0</th>\n",
       "      <td>RH_2</td>\n",
       "      <td>-0.458176</td>\n",
       "      <td>-0.412703</td>\n",
       "      <td>-0.000000</td>\n",
       "    </tr>\n",
       "    <tr>\n",
       "      <th>1</th>\n",
       "      <td>T_out</td>\n",
       "      <td>-0.330375</td>\n",
       "      <td>-0.269159</td>\n",
       "      <td>0.000000</td>\n",
       "    </tr>\n",
       "    <tr>\n",
       "      <th>2</th>\n",
       "      <td>T2</td>\n",
       "      <td>-0.249801</td>\n",
       "      <td>-0.214797</td>\n",
       "      <td>0.000084</td>\n",
       "    </tr>\n",
       "    <tr>\n",
       "      <th>3</th>\n",
       "      <td>T9</td>\n",
       "      <td>-0.204718</td>\n",
       "      <td>-0.203381</td>\n",
       "      <td>-0.000000</td>\n",
       "    </tr>\n",
       "    <tr>\n",
       "      <th>4</th>\n",
       "      <td>RH_8</td>\n",
       "      <td>-0.156534</td>\n",
       "      <td>-0.155889</td>\n",
       "      <td>-0.000000</td>\n",
       "    </tr>\n",
       "    <tr>\n",
       "      <th>5</th>\n",
       "      <td>RH_out</td>\n",
       "      <td>-0.076223</td>\n",
       "      <td>-0.052736</td>\n",
       "      <td>-0.047062</td>\n",
       "    </tr>\n",
       "    <tr>\n",
       "      <th>6</th>\n",
       "      <td>RH_7</td>\n",
       "      <td>-0.047614</td>\n",
       "      <td>-0.048777</td>\n",
       "      <td>-0.000000</td>\n",
       "    </tr>\n",
       "    <tr>\n",
       "      <th>7</th>\n",
       "      <td>RH_9</td>\n",
       "      <td>-0.036034</td>\n",
       "      <td>-0.037753</td>\n",
       "      <td>-0.000000</td>\n",
       "    </tr>\n",
       "    <tr>\n",
       "      <th>8</th>\n",
       "      <td>rv1</td>\n",
       "      <td>-0.000350</td>\n",
       "      <td>-0.000354</td>\n",
       "      <td>-0.000000</td>\n",
       "    </tr>\n",
       "    <tr>\n",
       "      <th>9</th>\n",
       "      <td>rv2</td>\n",
       "      <td>-0.000350</td>\n",
       "      <td>-0.000354</td>\n",
       "      <td>-0.000000</td>\n",
       "    </tr>\n",
       "    <tr>\n",
       "      <th>10</th>\n",
       "      <td>Press_mm_hg</td>\n",
       "      <td>0.004642</td>\n",
       "      <td>0.004387</td>\n",
       "      <td>-0.000000</td>\n",
       "    </tr>\n",
       "    <tr>\n",
       "      <th>11</th>\n",
       "      <td>T1</td>\n",
       "      <td>0.005960</td>\n",
       "      <td>-0.009430</td>\n",
       "      <td>0.000000</td>\n",
       "    </tr>\n",
       "    <tr>\n",
       "      <th>12</th>\n",
       "      <td>Visibility</td>\n",
       "      <td>0.010992</td>\n",
       "      <td>0.010787</td>\n",
       "      <td>0.000000</td>\n",
       "    </tr>\n",
       "    <tr>\n",
       "      <th>13</th>\n",
       "      <td>T7</td>\n",
       "      <td>0.012583</td>\n",
       "      <td>0.012072</td>\n",
       "      <td>-0.000000</td>\n",
       "    </tr>\n",
       "    <tr>\n",
       "      <th>14</th>\n",
       "      <td>T5</td>\n",
       "      <td>0.012616</td>\n",
       "      <td>0.008215</td>\n",
       "      <td>-0.000000</td>\n",
       "    </tr>\n",
       "    <tr>\n",
       "      <th>15</th>\n",
       "      <td>RH_5</td>\n",
       "      <td>0.016276</td>\n",
       "      <td>0.016455</td>\n",
       "      <td>0.000000</td>\n",
       "    </tr>\n",
       "    <tr>\n",
       "      <th>16</th>\n",
       "      <td>RH_4</td>\n",
       "      <td>0.026659</td>\n",
       "      <td>0.024815</td>\n",
       "      <td>0.000000</td>\n",
       "    </tr>\n",
       "    <tr>\n",
       "      <th>17</th>\n",
       "      <td>T4</td>\n",
       "      <td>0.027368</td>\n",
       "      <td>0.025675</td>\n",
       "      <td>0.000000</td>\n",
       "    </tr>\n",
       "    <tr>\n",
       "      <th>18</th>\n",
       "      <td>Windspeed</td>\n",
       "      <td>0.027918</td>\n",
       "      <td>0.029053</td>\n",
       "      <td>0.002774</td>\n",
       "    </tr>\n",
       "    <tr>\n",
       "      <th>19</th>\n",
       "      <td>RH_6</td>\n",
       "      <td>0.038094</td>\n",
       "      <td>0.035480</td>\n",
       "      <td>-0.000000</td>\n",
       "    </tr>\n",
       "    <tr>\n",
       "      <th>20</th>\n",
       "      <td>T8</td>\n",
       "      <td>0.088501</td>\n",
       "      <td>0.087548</td>\n",
       "      <td>0.000000</td>\n",
       "    </tr>\n",
       "    <tr>\n",
       "      <th>21</th>\n",
       "      <td>RH_3</td>\n",
       "      <td>0.095538</td>\n",
       "      <td>0.094454</td>\n",
       "      <td>0.000000</td>\n",
       "    </tr>\n",
       "    <tr>\n",
       "      <th>22</th>\n",
       "      <td>Tdewpoint</td>\n",
       "      <td>0.119484</td>\n",
       "      <td>0.084208</td>\n",
       "      <td>0.000000</td>\n",
       "    </tr>\n",
       "    <tr>\n",
       "      <th>23</th>\n",
       "      <td>T6</td>\n",
       "      <td>0.249019</td>\n",
       "      <td>0.229040</td>\n",
       "      <td>0.000000</td>\n",
       "    </tr>\n",
       "    <tr>\n",
       "      <th>24</th>\n",
       "      <td>T3</td>\n",
       "      <td>0.293245</td>\n",
       "      <td>0.291124</td>\n",
       "      <td>0.000000</td>\n",
       "    </tr>\n",
       "    <tr>\n",
       "      <th>25</th>\n",
       "      <td>RH_1</td>\n",
       "      <td>0.535743</td>\n",
       "      <td>0.502284</td>\n",
       "      <td>0.008410</td>\n",
       "    </tr>\n",
       "  </tbody>\n",
       "</table>\n",
       "</div>"
      ],
      "text/plain": [
       "       Features  Linear_Model_Weight  Ridge_Weight  Lasso_weight\n",
       "0          RH_2            -0.458176     -0.412703     -0.000000\n",
       "1         T_out            -0.330375     -0.269159      0.000000\n",
       "2            T2            -0.249801     -0.214797      0.000084\n",
       "3            T9            -0.204718     -0.203381     -0.000000\n",
       "4          RH_8            -0.156534     -0.155889     -0.000000\n",
       "5        RH_out            -0.076223     -0.052736     -0.047062\n",
       "6          RH_7            -0.047614     -0.048777     -0.000000\n",
       "7          RH_9            -0.036034     -0.037753     -0.000000\n",
       "8           rv1            -0.000350     -0.000354     -0.000000\n",
       "9           rv2            -0.000350     -0.000354     -0.000000\n",
       "10  Press_mm_hg             0.004642      0.004387     -0.000000\n",
       "11           T1             0.005960     -0.009430      0.000000\n",
       "12   Visibility             0.010992      0.010787      0.000000\n",
       "13           T7             0.012583      0.012072     -0.000000\n",
       "14           T5             0.012616      0.008215     -0.000000\n",
       "15         RH_5             0.016276      0.016455      0.000000\n",
       "16         RH_4             0.026659      0.024815      0.000000\n",
       "17           T4             0.027368      0.025675      0.000000\n",
       "18    Windspeed             0.027918      0.029053      0.002774\n",
       "19         RH_6             0.038094      0.035480     -0.000000\n",
       "20           T8             0.088501      0.087548      0.000000\n",
       "21         RH_3             0.095538      0.094454      0.000000\n",
       "22    Tdewpoint             0.119484      0.084208      0.000000\n",
       "23           T6             0.249019      0.229040      0.000000\n",
       "24           T3             0.293245      0.291124      0.000000\n",
       "25         RH_1             0.535743      0.502284      0.008410"
      ]
     },
     "execution_count": 25,
     "metadata": {},
     "output_type": "execute_result"
    }
   ],
   "source": [
    "final_weights"
   ]
  },
  {
   "cell_type": "code",
   "execution_count": null,
   "id": "043c9d38",
   "metadata": {},
   "outputs": [],
   "source": []
  }
 ],
 "metadata": {
  "kernelspec": {
   "display_name": "Python 3 (ipykernel)",
   "language": "python",
   "name": "python3"
  },
  "language_info": {
   "codemirror_mode": {
    "name": "ipython",
    "version": 3
   },
   "file_extension": ".py",
   "mimetype": "text/x-python",
   "name": "python",
   "nbconvert_exporter": "python",
   "pygments_lexer": "ipython3",
   "version": "3.9.12"
  }
 },
 "nbformat": 4,
 "nbformat_minor": 5
}
